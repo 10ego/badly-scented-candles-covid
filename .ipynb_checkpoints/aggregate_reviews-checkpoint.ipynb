{
 "cells": [
  {
   "cell_type": "code",
   "execution_count": 23,
   "id": "e9ae33e2-9e26-44f3-a3eb-8e8a64f46e14",
   "metadata": {},
   "outputs": [],
   "source": [
    "import pandas as pd\n",
    "import json\n",
    "from IPython.display import clear_output"
   ]
  },
  {
   "cell_type": "code",
   "execution_count": 25,
   "id": "ac3ac8b7-3fc3-4313-8d44-6abb0a161d93",
   "metadata": {},
   "outputs": [],
   "source": [
    "data = []"
   ]
  },
  {
   "cell_type": "code",
   "execution_count": 26,
   "id": "959a143c-dc53-4457-aa06-971b8f7176b0",
   "metadata": {},
   "outputs": [],
   "source": [
    "for i in range(1,5):\n",
    "    with open(f'data/reviews_data_{i}.json') as f:\n",
    "        data += json.load(f)"
   ]
  },
  {
   "cell_type": "code",
   "execution_count": 27,
   "id": "902044d8-cd1d-4ab8-b3f0-fc2a16b18c7d",
   "metadata": {},
   "outputs": [],
   "source": [
    "df = pd.DataFrame(data)"
   ]
  },
  {
   "cell_type": "code",
   "execution_count": 28,
   "id": "4ba033d0-da53-4fd6-aca8-6cf0a22174e7",
   "metadata": {},
   "outputs": [
    {
     "name": "stdout",
     "output_type": "stream",
     "text": [
      "(260, 4)\n"
     ]
    },
    {
     "data": {
      "text/html": [
       "<div>\n",
       "<style scoped>\n",
       "    .dataframe tbody tr th:only-of-type {\n",
       "        vertical-align: middle;\n",
       "    }\n",
       "\n",
       "    .dataframe tbody tr th {\n",
       "        vertical-align: top;\n",
       "    }\n",
       "\n",
       "    .dataframe thead th {\n",
       "        text-align: right;\n",
       "    }\n",
       "</style>\n",
       "<table border=\"1\" class=\"dataframe\">\n",
       "  <thead>\n",
       "    <tr style=\"text-align: right;\">\n",
       "      <th></th>\n",
       "      <th>date</th>\n",
       "      <th>title</th>\n",
       "      <th>stars</th>\n",
       "      <th>review</th>\n",
       "    </tr>\n",
       "  </thead>\n",
       "  <tbody>\n",
       "    <tr>\n",
       "      <th>0</th>\n",
       "      <td>2021-10-31</td>\n",
       "      <td>Not worth what I paid for</td>\n",
       "      <td>1.0 out of 5 stars</td>\n",
       "      <td>The wick was covered in wax. I had to get it o...</td>\n",
       "    </tr>\n",
       "    <tr>\n",
       "      <th>1</th>\n",
       "      <td>2021-03-17</td>\n",
       "      <td>Smells like Gasoline. Manufacturer replacing.</td>\n",
       "      <td>2.0 out of 5 stars</td>\n",
       "      <td>UPDATED: Amazon advised I'd have to contact th...</td>\n",
       "    </tr>\n",
       "    <tr>\n",
       "      <th>2</th>\n",
       "      <td>2021-02-07</td>\n",
       "      <td>Disappointing lack of scent</td>\n",
       "      <td>1.0 out of 5 stars</td>\n",
       "      <td>This has no vanilla scent. Previously I purcha...</td>\n",
       "    </tr>\n",
       "    <tr>\n",
       "      <th>3</th>\n",
       "      <td>2021-01-30</td>\n",
       "      <td>Very pleased will purchase again !</td>\n",
       "      <td>5.0 out of 5 stars</td>\n",
       "      <td>see headline</td>\n",
       "    </tr>\n",
       "    <tr>\n",
       "      <th>4</th>\n",
       "      <td>2021-01-01</td>\n",
       "      <td>Known product</td>\n",
       "      <td>5.0 out of 5 stars</td>\n",
       "      <td>A known product and delivered by a proven supp...</td>\n",
       "    </tr>\n",
       "  </tbody>\n",
       "</table>\n",
       "</div>"
      ],
      "text/plain": [
       "         date                                          title  \\\n",
       "0  2021-10-31                      Not worth what I paid for   \n",
       "1  2021-03-17  Smells like Gasoline. Manufacturer replacing.   \n",
       "2  2021-02-07                    Disappointing lack of scent   \n",
       "3  2021-01-30             Very pleased will purchase again !   \n",
       "4  2021-01-01                                  Known product   \n",
       "\n",
       "                stars                                             review  \n",
       "0  1.0 out of 5 stars  The wick was covered in wax. I had to get it o...  \n",
       "1  2.0 out of 5 stars  UPDATED: Amazon advised I'd have to contact th...  \n",
       "2  1.0 out of 5 stars  This has no vanilla scent. Previously I purcha...  \n",
       "3  5.0 out of 5 stars                                       see headline  \n",
       "4  5.0 out of 5 stars  A known product and delivered by a proven supp...  "
      ]
     },
     "execution_count": 28,
     "metadata": {},
     "output_type": "execute_result"
    }
   ],
   "source": [
    "print(df.shape)\n",
    "df.head()"
   ]
  },
  {
   "cell_type": "code",
   "execution_count": 29,
   "id": "a5ad62e8-042d-4fef-a166-e80476fec3a9",
   "metadata": {},
   "outputs": [],
   "source": [
    "df['no_scent'] = [None]*260"
   ]
  },
  {
   "cell_type": "code",
   "execution_count": 36,
   "id": "79e3b6f0-d264-427b-9979-e4bc143a49af",
   "metadata": {},
   "outputs": [],
   "source": [
    "df['date'] = pd.to_datetime(df['date'])"
   ]
  },
  {
   "cell_type": "code",
   "execution_count": null,
   "id": "03b9eaf7-efa7-4fa7-bcec-dfe85f4f886b",
   "metadata": {},
   "outputs": [],
   "source": [
    "for i in df[250:].iterrows():\n",
    "    clear_output()\n",
    "    print(i[0], i[1]['title'], '\\n', i[1]['review'], '\\n', i[1]['stars'])\n",
    "    prompt = input('\\n\\nIs the review about low/no/weird scent? (y/n)\\n')\n",
    "    if prompt.lower() == 'y':\n",
    "        df.iloc[i[0]]['no_scent'] = True\n",
    "    else:\n",
    "        df.iloc[i[0]]['no_scent'] = False\n",
    "\n",
    "# df loaded using already processed data\n",
    "# df = pd.read_csv('data/reviews_raw.csv') "
   ]
  },
  {
   "cell_type": "code",
   "execution_count": 34,
   "id": "0954f622-e76c-463f-ab7b-d41b4983c262",
   "metadata": {},
   "outputs": [
    {
     "data": {
      "text/html": [
       "<div>\n",
       "<style scoped>\n",
       "    .dataframe tbody tr th:only-of-type {\n",
       "        vertical-align: middle;\n",
       "    }\n",
       "\n",
       "    .dataframe tbody tr th {\n",
       "        vertical-align: top;\n",
       "    }\n",
       "\n",
       "    .dataframe thead th {\n",
       "        text-align: right;\n",
       "    }\n",
       "</style>\n",
       "<table border=\"1\" class=\"dataframe\">\n",
       "  <thead>\n",
       "    <tr style=\"text-align: right;\">\n",
       "      <th></th>\n",
       "      <th>date</th>\n",
       "      <th>title</th>\n",
       "      <th>stars</th>\n",
       "      <th>review</th>\n",
       "      <th>no_scent</th>\n",
       "      <th>noscent_counter</th>\n",
       "    </tr>\n",
       "  </thead>\n",
       "  <tbody>\n",
       "    <tr>\n",
       "      <th>0</th>\n",
       "      <td>2021-10-31</td>\n",
       "      <td>Not worth what I paid for</td>\n",
       "      <td>1.0 out of 5 stars</td>\n",
       "      <td>The wick was covered in wax. I had to get it o...</td>\n",
       "      <td>False</td>\n",
       "      <td>0</td>\n",
       "    </tr>\n",
       "    <tr>\n",
       "      <th>1</th>\n",
       "      <td>2021-03-17</td>\n",
       "      <td>Smells like Gasoline. Manufacturer replacing.</td>\n",
       "      <td>2.0 out of 5 stars</td>\n",
       "      <td>UPDATED: Amazon advised I'd have to contact th...</td>\n",
       "      <td>True</td>\n",
       "      <td>1</td>\n",
       "    </tr>\n",
       "    <tr>\n",
       "      <th>2</th>\n",
       "      <td>2021-02-07</td>\n",
       "      <td>Disappointing lack of scent</td>\n",
       "      <td>1.0 out of 5 stars</td>\n",
       "      <td>This has no vanilla scent. Previously I purcha...</td>\n",
       "      <td>True</td>\n",
       "      <td>1</td>\n",
       "    </tr>\n",
       "    <tr>\n",
       "      <th>3</th>\n",
       "      <td>2021-01-30</td>\n",
       "      <td>Very pleased will purchase again !</td>\n",
       "      <td>5.0 out of 5 stars</td>\n",
       "      <td>see headline</td>\n",
       "      <td>False</td>\n",
       "      <td>0</td>\n",
       "    </tr>\n",
       "    <tr>\n",
       "      <th>4</th>\n",
       "      <td>2021-01-01</td>\n",
       "      <td>Known product</td>\n",
       "      <td>5.0 out of 5 stars</td>\n",
       "      <td>A known product and delivered by a proven supp...</td>\n",
       "      <td>False</td>\n",
       "      <td>0</td>\n",
       "    </tr>\n",
       "  </tbody>\n",
       "</table>\n",
       "</div>"
      ],
      "text/plain": [
       "         date                                          title  \\\n",
       "0  2021-10-31                      Not worth what I paid for   \n",
       "1  2021-03-17  Smells like Gasoline. Manufacturer replacing.   \n",
       "2  2021-02-07                    Disappointing lack of scent   \n",
       "3  2021-01-30             Very pleased will purchase again !   \n",
       "4  2021-01-01                                  Known product   \n",
       "\n",
       "                stars                                             review  \\\n",
       "0  1.0 out of 5 stars  The wick was covered in wax. I had to get it o...   \n",
       "1  2.0 out of 5 stars  UPDATED: Amazon advised I'd have to contact th...   \n",
       "2  1.0 out of 5 stars  This has no vanilla scent. Previously I purcha...   \n",
       "3  5.0 out of 5 stars                                       see headline   \n",
       "4  5.0 out of 5 stars  A known product and delivered by a proven supp...   \n",
       "\n",
       "   no_scent  noscent_counter  \n",
       "0     False                0  \n",
       "1      True                1  \n",
       "2      True                1  \n",
       "3     False                0  \n",
       "4     False                0  "
      ]
     },
     "execution_count": 34,
     "metadata": {},
     "output_type": "execute_result"
    }
   ],
   "source": [
    "df.head()"
   ]
  },
  {
   "cell_type": "code",
   "execution_count": 37,
   "id": "f12330f7-1e23-48c5-8100-ea90fdc501c5",
   "metadata": {},
   "outputs": [],
   "source": [
    "df_weekly = df.groupby([pd.Grouper(key='date', freq='W-MON')])['noscent_counter'].sum().reset_index().sort_values('date')"
   ]
  },
  {
   "cell_type": "code",
   "execution_count": 38,
   "id": "31adc165-5af1-48eb-90ab-3286d3511e2a",
   "metadata": {},
   "outputs": [
    {
     "data": {
      "text/html": [
       "<div>\n",
       "<style scoped>\n",
       "    .dataframe tbody tr th:only-of-type {\n",
       "        vertical-align: middle;\n",
       "    }\n",
       "\n",
       "    .dataframe tbody tr th {\n",
       "        vertical-align: top;\n",
       "    }\n",
       "\n",
       "    .dataframe thead th {\n",
       "        text-align: right;\n",
       "    }\n",
       "</style>\n",
       "<table border=\"1\" class=\"dataframe\">\n",
       "  <thead>\n",
       "    <tr style=\"text-align: right;\">\n",
       "      <th></th>\n",
       "      <th>date</th>\n",
       "      <th>noscent_counter</th>\n",
       "    </tr>\n",
       "  </thead>\n",
       "  <tbody>\n",
       "    <tr>\n",
       "      <th>0</th>\n",
       "      <td>2019-05-13</td>\n",
       "      <td>0</td>\n",
       "    </tr>\n",
       "    <tr>\n",
       "      <th>1</th>\n",
       "      <td>2019-05-20</td>\n",
       "      <td>0</td>\n",
       "    </tr>\n",
       "    <tr>\n",
       "      <th>2</th>\n",
       "      <td>2019-05-27</td>\n",
       "      <td>0</td>\n",
       "    </tr>\n",
       "    <tr>\n",
       "      <th>3</th>\n",
       "      <td>2019-06-03</td>\n",
       "      <td>0</td>\n",
       "    </tr>\n",
       "    <tr>\n",
       "      <th>4</th>\n",
       "      <td>2019-06-10</td>\n",
       "      <td>0</td>\n",
       "    </tr>\n",
       "  </tbody>\n",
       "</table>\n",
       "</div>"
      ],
      "text/plain": [
       "        date  noscent_counter\n",
       "0 2019-05-13                0\n",
       "1 2019-05-20                0\n",
       "2 2019-05-27                0\n",
       "3 2019-06-03                0\n",
       "4 2019-06-10                0"
      ]
     },
     "execution_count": 38,
     "metadata": {},
     "output_type": "execute_result"
    }
   ],
   "source": [
    "df_weekly.head()"
   ]
  },
  {
   "cell_type": "code",
   "execution_count": null,
   "id": "09a568c8-fbe2-46cc-86ee-c9ee16217c56",
   "metadata": {},
   "outputs": [],
   "source": [
    "# Truncate rows from dates that go back prior to the COVID cases data\n",
    "df_weekly[37:].to_csv('data/reviews_df.csv')"
   ]
  }
 ],
 "metadata": {
  "kernelspec": {
   "display_name": "Python 3 (ipykernel)",
   "language": "python",
   "name": "python3"
  },
  "language_info": {
   "codemirror_mode": {
    "name": "ipython",
    "version": 3
   },
   "file_extension": ".py",
   "mimetype": "text/x-python",
   "name": "python",
   "nbconvert_exporter": "python",
   "pygments_lexer": "ipython3",
   "version": "3.8.10"
  }
 },
 "nbformat": 4,
 "nbformat_minor": 5
}
